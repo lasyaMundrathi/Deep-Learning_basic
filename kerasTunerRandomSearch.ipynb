{
  "nbformat": 4,
  "nbformat_minor": 0,
  "metadata": {
    "colab": {
      "name": "kerasTunerRandomSearch.ipynb",
      "provenance": []
    },
    "kernelspec": {
      "name": "python3",
      "display_name": "Python 3"
    },
    "language_info": {
      "name": "python"
    }
  },
  "cells": [
    {
      "cell_type": "code",
      "execution_count": null,
      "metadata": {
        "id": "Gx4puEjq_4YF"
      },
      "outputs": [],
      "source": [
        "!pip install keras-tuner\n",
        "import pandas as pd\n",
        "from tensorflow import keras\n",
        "from tensorflow.keras import layers\n",
        "from kerastuner.tuners import RandomSearch"
      ]
    },
    {
      "cell_type": "code",
      "source": [
        "df=pd.read_csv('/content/Real_Combine.csv')"
      ],
      "metadata": {
        "id": "HBpmV9r-_8Wr"
      },
      "execution_count": 4,
      "outputs": []
    },
    {
      "cell_type": "code",
      "source": [
        "X=df.iloc[:,:-1] ## independent features\n",
        "y=df.iloc[:,-1] ## dependent features"
      ],
      "metadata": {
        "id": "fwGXMs-U_89y"
      },
      "execution_count": 23,
      "outputs": []
    },
    {
      "cell_type": "code",
      "source": [
        "def build_model(hp):\n",
        "    model = keras.Sequential()\n",
        "    for i in range(hp.Int('num_layers', 2, 20)):\n",
        "        model.add(layers.Dense(units=hp.Int('units_' + str(i),\n",
        "                                            min_value=32,\n",
        "                                            max_value=512,\n",
        "                                            step=32),\n",
        "                               activation='relu'))\n",
        "    model.add(layers.Dense(1, activation='linear'))\n",
        "    model.compile(\n",
        "        optimizer=keras.optimizers.Adam(\n",
        "            hp.Choice('learning_rate', [1e-2, 1e-3, 1e-4])),\n",
        "        loss='mean_absolute_error',\n",
        "        metrics=['mean_absolute_error'])\n",
        "    return model"
      ],
      "metadata": {
        "id": "K6whJaCP_9Pr"
      },
      "execution_count": 6,
      "outputs": []
    },
    {
      "cell_type": "markdown",
      "source": [
        "hp-->‘hp’ is an object internally passed by tuner to model-building function to help it specify range of hyperparameter values whenever the tuner is called.\n",
        "\n",
        "hp.Int->number of layers ranging between 32 and 512 within a gap of 32.\n",
        "\n",
        "hp.Choice-> Specifies values or functions to be used for hyperparameter tuning"
      ],
      "metadata": {
        "id": "c-7g8yL7DFzN"
      }
    },
    {
      "cell_type": "code",
      "source": [
        ""
      ],
      "metadata": {
        "id": "6OkF2mcMDE1F"
      },
      "execution_count": null,
      "outputs": []
    },
    {
      "cell_type": "code",
      "source": [
        "tuner = RandomSearch(\n",
        "    build_model,\n",
        "    objective='val_mean_absolute_error',\n",
        "    max_trials=5,\n",
        "    executions_per_trial=3,\n",
        "    directory='project1',\n",
        "    project_name='Air Quality Index1')"
      ],
      "metadata": {
        "id": "K9paU81O_9cx"
      },
      "execution_count": 19,
      "outputs": []
    },
    {
      "cell_type": "code",
      "source": [
        "tuner.search_space_summary()"
      ],
      "metadata": {
        "colab": {
          "base_uri": "https://localhost:8080/"
        },
        "id": "7sl4SioH_9o_",
        "outputId": "72c7ca25-baa4-49d3-bb34-0ef1d5a2b6bc"
      },
      "execution_count": 20,
      "outputs": [
        {
          "output_type": "stream",
          "name": "stdout",
          "text": [
            "Search space summary\n",
            "Default search space size: 4\n",
            "num_layers (Int)\n",
            "{'default': None, 'conditions': [], 'min_value': 2, 'max_value': 20, 'step': 1, 'sampling': None}\n",
            "units_0 (Int)\n",
            "{'default': None, 'conditions': [], 'min_value': 32, 'max_value': 512, 'step': 32, 'sampling': None}\n",
            "units_1 (Int)\n",
            "{'default': None, 'conditions': [], 'min_value': 32, 'max_value': 512, 'step': 32, 'sampling': None}\n",
            "learning_rate (Choice)\n",
            "{'default': 0.01, 'conditions': [], 'values': [0.01, 0.001, 0.0001], 'ordered': True}\n"
          ]
        }
      ]
    },
    {
      "cell_type": "code",
      "source": [
        "\n",
        "from sklearn.model_selection import train_test_split\n",
        "X_train, X_test, y_train, y_test = train_test_split(X, y, test_size=0.3, random_state=0)"
      ],
      "metadata": {
        "id": "nrcwyVUpAL1F"
      },
      "execution_count": 24,
      "outputs": []
    },
    {
      "cell_type": "markdown",
      "source": [
        "With random_state=0 , we get the same train and test sets across different executions. With random_state=42, we get the same train and test sets across different executions, but in this time, the train and test sets are different from the previous case with random_state=0 . random_state=None different_results"
      ],
      "metadata": {
        "id": "fifWazcfC_TK"
      }
    },
    {
      "cell_type": "code",
      "source": [
        "df.isnull().sum()"
      ],
      "metadata": {
        "colab": {
          "base_uri": "https://localhost:8080/"
        },
        "id": "L7te4MOBBPpj",
        "outputId": "b5af227e-85ec-4305-f3e1-6b57e8044a14"
      },
      "execution_count": 22,
      "outputs": [
        {
          "output_type": "execute_result",
          "data": {
            "text/plain": [
              "T         0\n",
              "TM        0\n",
              "Tm        0\n",
              "SLP       0\n",
              "H         0\n",
              "VV        0\n",
              "V         0\n",
              "VM        0\n",
              "PM 2.5    0\n",
              "dtype: int64"
            ]
          },
          "metadata": {},
          "execution_count": 22
        }
      ]
    },
    {
      "cell_type": "code",
      "source": [
        "df.dropna(inplace=True)"
      ],
      "metadata": {
        "id": "IkWfIFwpBfas"
      },
      "execution_count": 16,
      "outputs": []
    },
    {
      "cell_type": "code",
      "source": [
        "df.isnull().sum()"
      ],
      "metadata": {
        "colab": {
          "base_uri": "https://localhost:8080/"
        },
        "id": "_suyX1D2BjRT",
        "outputId": "b9e955eb-bd51-43ca-d904-32de39007d30"
      },
      "execution_count": 17,
      "outputs": [
        {
          "output_type": "execute_result",
          "data": {
            "text/plain": [
              "T         0\n",
              "TM        0\n",
              "Tm        0\n",
              "SLP       0\n",
              "H         0\n",
              "VV        0\n",
              "V         0\n",
              "VM        0\n",
              "PM 2.5    0\n",
              "dtype: int64"
            ]
          },
          "metadata": {},
          "execution_count": 17
        }
      ]
    },
    {
      "cell_type": "code",
      "source": [
        "tuner.search(X_train, y_train,\n",
        "             epochs=5,\n",
        "             validation_data=(X_test, y_test))"
      ],
      "metadata": {
        "colab": {
          "base_uri": "https://localhost:8080/"
        },
        "id": "qqnCGDBsAMCo",
        "outputId": "46df5185-72c7-43f2-a11b-3b7aaeb9827d"
      },
      "execution_count": 25,
      "outputs": [
        {
          "output_type": "stream",
          "name": "stdout",
          "text": [
            "Trial 5 Complete [00h 00m 09s]\n",
            "val_mean_absolute_error: 49.83958435058594\n",
            "\n",
            "Best val_mean_absolute_error So Far: 48.59799830118815\n",
            "Total elapsed time: 00h 00m 41s\n",
            "INFO:tensorflow:Oracle triggered exit\n"
          ]
        },
        {
          "output_type": "stream",
          "name": "stderr",
          "text": [
            "INFO:tensorflow:Oracle triggered exit\n"
          ]
        }
      ]
    },
    {
      "cell_type": "code",
      "source": [
        "tuner.results_summary()"
      ],
      "metadata": {
        "colab": {
          "base_uri": "https://localhost:8080/"
        },
        "id": "y3E9hgsOAMPz",
        "outputId": "eed35443-750b-4338-a732-d4abe288c851"
      },
      "execution_count": 26,
      "outputs": [
        {
          "output_type": "stream",
          "name": "stdout",
          "text": [
            "Results summary\n",
            "Results in project1/Air Quality Index1\n",
            "Showing 10 best trials\n",
            "<keras_tuner.engine.objective.Objective object at 0x7f0994362910>\n",
            "Trial summary\n",
            "Hyperparameters:\n",
            "num_layers: 4\n",
            "units_0: 160\n",
            "units_1: 224\n",
            "learning_rate: 0.01\n",
            "units_2: 64\n",
            "units_3: 416\n",
            "units_4: 160\n",
            "units_5: 480\n",
            "units_6: 64\n",
            "units_7: 224\n",
            "units_8: 192\n",
            "units_9: 128\n",
            "units_10: 416\n",
            "units_11: 32\n",
            "units_12: 64\n",
            "units_13: 160\n",
            "Score: 48.59799830118815\n",
            "Trial summary\n",
            "Hyperparameters:\n",
            "num_layers: 9\n",
            "units_0: 160\n",
            "units_1: 480\n",
            "learning_rate: 0.01\n",
            "units_2: 288\n",
            "units_3: 96\n",
            "units_4: 128\n",
            "units_5: 192\n",
            "units_6: 256\n",
            "units_7: 64\n",
            "units_8: 288\n",
            "units_9: 384\n",
            "units_10: 320\n",
            "units_11: 64\n",
            "units_12: 480\n",
            "units_13: 64\n",
            "Score: 49.83958435058594\n",
            "Trial summary\n",
            "Hyperparameters:\n",
            "num_layers: 14\n",
            "units_0: 64\n",
            "units_1: 192\n",
            "learning_rate: 0.01\n",
            "units_2: 32\n",
            "units_3: 32\n",
            "units_4: 32\n",
            "units_5: 32\n",
            "units_6: 32\n",
            "units_7: 32\n",
            "units_8: 32\n",
            "units_9: 32\n",
            "units_10: 32\n",
            "units_11: 32\n",
            "units_12: 32\n",
            "units_13: 32\n",
            "Score: 54.07647832234701\n",
            "Trial summary\n",
            "Hyperparameters:\n",
            "num_layers: 10\n",
            "units_0: 32\n",
            "units_1: 256\n",
            "learning_rate: 0.01\n",
            "units_2: 384\n",
            "units_3: 192\n",
            "units_4: 288\n",
            "units_5: 384\n",
            "units_6: 416\n",
            "units_7: 32\n",
            "units_8: 96\n",
            "units_9: 416\n",
            "units_10: 416\n",
            "units_11: 480\n",
            "units_12: 192\n",
            "units_13: 416\n",
            "Score: 56.841976165771484\n",
            "Trial summary\n",
            "Hyperparameters:\n",
            "num_layers: 12\n",
            "units_0: 480\n",
            "units_1: 64\n",
            "learning_rate: 0.01\n",
            "units_2: 128\n",
            "units_3: 480\n",
            "units_4: 224\n",
            "units_5: 192\n",
            "units_6: 352\n",
            "units_7: 416\n",
            "units_8: 224\n",
            "units_9: 288\n",
            "units_10: 384\n",
            "units_11: 96\n",
            "units_12: 32\n",
            "units_13: 384\n",
            "Score: 63.80636342366537\n"
          ]
        }
      ]
    },
    {
      "cell_type": "markdown",
      "source": [
        "The Keras Tuner sometimes throws error “tensorflow:Oracle triggered exit” when we try to rerun the code. Changing this directory name helps us to avoid the error in rerun."
      ],
      "metadata": {
        "id": "WrrOfsuODNW-"
      }
    },
    {
      "cell_type": "markdown",
      "source": [
        "References https://medium.com/swlh/hyperparameter-tuning-in-keras-tensorflow-2-with-keras-tuner-randomsearch-hyperband-3e212647778f"
      ],
      "metadata": {
        "id": "ZJEUmmgODSaQ"
      }
    }
  ]
}